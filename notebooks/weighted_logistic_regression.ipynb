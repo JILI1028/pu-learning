{
 "cells": [
  {
   "cell_type": "markdown",
   "id": "cc74f845-db97-42dd-8860-8e5f0dbdf7ff",
   "metadata": {},
   "source": [
    "# Weighted Logistic Regression\n",
    "\n",
    "This method learns $P(y|x)$ from PU data by considering a class weight."
   ]
  },
  {
   "cell_type": "code",
   "execution_count": null,
   "id": "8bd255dc-40a0-403d-b922-4646274d1cda",
   "metadata": {
    "tags": []
   },
   "outputs": [],
   "source": [
    "import numpy as np\n",
    "import pandas as pd"
   ]
  },
  {
   "cell_type": "markdown",
   "id": "9c6b5d09-230f-4713-b8ef-8fc0274d967a",
   "metadata": {
    "tags": []
   },
   "source": [
    "### Load the dataset"
   ]
  },
  {
   "cell_type": "code",
   "execution_count": null,
   "id": "dd9541ee-e2fd-4759-b7f3-96f76a514c0f",
   "metadata": {},
   "outputs": [],
   "source": [
    "from data import load_scar, load_sar, load_pg\n",
    "\n",
    "train, valid, test, c = load_scar()"
   ]
  },
  {
   "cell_type": "markdown",
   "id": "7da4a0c5-05eb-43e0-840f-f24419f00612",
   "metadata": {},
   "source": [
    "### Learn a classifier considering a class weight"
   ]
  },
  {
   "cell_type": "code",
   "execution_count": null,
   "id": "dd47e0d3-bba5-4aef-8ef4-faac810912e1",
   "metadata": {},
   "outputs": [],
   "source": [
    "train_xs, train_ys, train_ss, train_es = train\n",
    "\n",
    "class_weight = {\n",
    "    0: (train_ss == 1).sum() / len(train_ss),\n",
    "    1: (train_ss == 0).sum() / len(train_ss),\n",
    "}"
   ]
  },
  {
   "cell_type": "code",
   "execution_count": null,
   "id": "909a5196",
   "metadata": {},
   "outputs": [],
   "source": [
    "from sklearn.linear_model import LogisticRegression\n",
    "\n",
    "clf = LogisticRegression(class_weight=class_weight, random_state=0).fit(train_xs, train_ss)"
   ]
  },
  {
   "cell_type": "markdown",
   "id": "469ee5c9-a090-4c98-96e0-df91d52d50ac",
   "metadata": {},
   "source": [
    "### Predict"
   ]
  },
  {
   "cell_type": "code",
   "execution_count": null,
   "id": "e60d94fd-97a0-4cd6-b33b-d94055402235",
   "metadata": {},
   "outputs": [],
   "source": [
    "test_xs, test_ys, test_ss, test_es = test\n",
    "\n",
    "test_ys_hat = clf.predict(test_xs)\n",
    "test_ys_prob = clf.predict_proba(test_xs)[:, 1]"
   ]
  },
  {
   "cell_type": "markdown",
   "id": "de675e8b-a621-4222-8903-40ca9d7788da",
   "metadata": {},
   "source": [
    "### Evaluate the performance"
   ]
  },
  {
   "cell_type": "code",
   "execution_count": null,
   "id": "7cbdef5d-4e0b-4efd-ac46-3e91b9580457",
   "metadata": {},
   "outputs": [],
   "source": [
    "from sklearn.metrics import f1_score\n",
    "\n",
    "f1_score(test_ys, test_ys_hat)"
   ]
  },
  {
   "cell_type": "markdown",
   "id": "fc7eba3a-727c-41b3-a265-75c96fce85a9",
   "metadata": {},
   "source": [
    "### Visualize the result"
   ]
  },
  {
   "cell_type": "code",
   "execution_count": null,
   "id": "9082dc22-49db-4799-a98f-d6906f62524e",
   "metadata": {},
   "outputs": [],
   "source": [
    "from utils import plot_x_y, plot_x_y_proba"
   ]
  },
  {
   "cell_type": "code",
   "execution_count": null,
   "id": "3c47f77b-8124-4847-a915-08067b4f2d12",
   "metadata": {},
   "outputs": [],
   "source": [
    "plot_x_y(test_xs, test_ys_hat)"
   ]
  }
 ],
 "metadata": {
  "kernelspec": {
   "display_name": "Python 3 (ipykernel)",
   "language": "python",
   "name": "python3"
  },
  "language_info": {
   "codemirror_mode": {
    "name": "ipython",
    "version": 3
   },
   "file_extension": ".py",
   "mimetype": "text/x-python",
   "name": "python",
   "nbconvert_exporter": "python",
   "pygments_lexer": "ipython3",
   "version": "3.9.10"
  }
 },
 "nbformat": 4,
 "nbformat_minor": 5
}
