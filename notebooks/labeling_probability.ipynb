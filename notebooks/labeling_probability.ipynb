{
 "cells": [
  {
   "cell_type": "markdown",
   "id": "2e6b30d0-5542-4177-90b0-b9cf72bc67e0",
   "metadata": {},
   "source": [
    "# Incorporating labeling probability\n",
    "\n",
    "This method learns $P(y|x)$ from PU data by incorporating the labeling mechanism."
   ]
  },
  {
   "cell_type": "code",
   "execution_count": null,
   "id": "8bd255dc-40a0-403d-b922-4646274d1cda",
   "metadata": {
    "tags": []
   },
   "outputs": [],
   "source": [
    "import numpy as np\n",
    "import pandas as pd"
   ]
  },
  {
   "cell_type": "markdown",
   "id": "9c6b5d09-230f-4713-b8ef-8fc0274d967a",
   "metadata": {
    "tags": []
   },
   "source": [
    "### Load the dataset"
   ]
  },
  {
   "cell_type": "code",
   "execution_count": null,
   "id": "dd9541ee-e2fd-4759-b7f3-96f76a514c0f",
   "metadata": {},
   "outputs": [],
   "source": [
    "from data import load_scar, load_sar, load_pg\n",
    "\n",
    "train, valid, test, c = load_scar()"
   ]
  },
  {
   "cell_type": "markdown",
   "id": "7da4a0c5-05eb-43e0-840f-f24419f00612",
   "metadata": {},
   "source": [
    "### Learn a non-traditional classifier"
   ]
  },
  {
   "cell_type": "code",
   "execution_count": null,
   "id": "a5c02c1f-3e48-48bf-a125-a2607b3f28ac",
   "metadata": {},
   "outputs": [],
   "source": [
    "from sklearn.linear_model import LogisticRegression\n",
    "\n",
    "train_xs, train_ys, train_ss, train_es = train\n",
    "\n",
    "_clf = LogisticRegression(random_state=0).fit(train_xs, train_ss)"
   ]
  },
  {
   "cell_type": "markdown",
   "id": "640d7874-366c-46a7-9844-1b2b7d228db2",
   "metadata": {},
   "source": [
    "### Create a new dataset\n",
    "\n",
    "- Create a new dataset by regarding labeled data as positive data and unlabeled data as both positive and negative data.\n",
    "- Assign a weight to each example as follows:\n",
    "  - Assign $1$ to positive data derived from labeled data.\n",
    "  - Assign $w^+ = \\frac{1 - c}{c}\\frac{P(s=1|x)}{1 - P(s=1|x)}$ to positive data derived from unlabeled data.\n",
    "  - Assign $w^- = 1 - w^+$ to negative data derived from unlabeled data."
   ]
  },
  {
   "cell_type": "code",
   "execution_count": null,
   "id": "9fec1a1d-21cb-4876-8556-0bf3bb6aecf4",
   "metadata": {},
   "outputs": [],
   "source": [
    "train_xs_labeled = train_xs[train_ss == 1]\n",
    "train_xs_unlabeled = train_xs[train_ss == 0]\n",
    "\n",
    "train_ss_prob_unlabeled = _clf.predict_proba(train_xs_unlabeled)[:, 1]\n",
    "\n",
    "new_train_xs = []\n",
    "new_train_ys = []\n",
    "sample_weight = []\n",
    "\n",
    "# use labeled data as positive\n",
    "for train_x_labeled in train_xs_labeled:\n",
    "    new_train_xs.append(train_x_labeled)\n",
    "    new_train_ys.append(1)\n",
    "    sample_weight.append(1)\n",
    "\n",
    "# use unlabeled data as\n",
    "for train_x_unlabeled, train_s_prob_unlabeled in zip(train_xs_unlabeled, train_ss_prob_unlabeled):\n",
    "    # positive\n",
    "    new_train_xs.append(train_x_unlabeled)\n",
    "    new_train_ys.append(1)\n",
    "    sample_weight.append(((1 - c) / c) * (train_s_prob_unlabeled / (1 - train_s_prob_unlabeled)))\n",
    "    \n",
    "    # negative\n",
    "    new_train_xs.append(train_x_unlabeled)\n",
    "    new_train_ys.append(0)\n",
    "    sample_weight.append(1 - ((1 - c) / c) * (train_s_prob_unlabeled / (1 - train_s_prob_unlabeled)))"
   ]
  },
  {
   "cell_type": "markdown",
   "id": "116ceb44-e510-4041-8e75-e19922db2c51",
   "metadata": {},
   "source": [
    "### Learn a classifier"
   ]
  },
  {
   "cell_type": "code",
   "execution_count": null,
   "id": "dd47e0d3-bba5-4aef-8ef4-faac810912e1",
   "metadata": {},
   "outputs": [],
   "source": [
    "clf = LogisticRegression(random_state=0).fit(new_train_xs, new_train_ys, sample_weight=sample_weight)"
   ]
  },
  {
   "cell_type": "markdown",
   "id": "bd799b21-5174-469a-8f01-4fd6c5dae26c",
   "metadata": {},
   "source": [
    "### Predict"
   ]
  },
  {
   "cell_type": "code",
   "execution_count": null,
   "id": "84dc7874-6dc3-4dac-81c0-0f8c73ce90df",
   "metadata": {},
   "outputs": [],
   "source": [
    "test_xs, test_ys, test_ss, test_es = test\n",
    "\n",
    "test_ys_hat = clf.predict(test_xs)\n",
    "test_ys_prob = clf.predict_proba(test_xs)[:, 1]"
   ]
  },
  {
   "cell_type": "markdown",
   "id": "d2a590e0-3f17-43a6-ba80-85121782afb3",
   "metadata": {},
   "source": [
    "### Evaluate the performance"
   ]
  },
  {
   "cell_type": "code",
   "execution_count": null,
   "id": "de66352b-dad6-4c7a-9aa1-ecb917e4e30c",
   "metadata": {},
   "outputs": [],
   "source": [
    "from sklearn.metrics import f1_score\n",
    "\n",
    "f1_score(test_ys, test_ys_hat)"
   ]
  },
  {
   "cell_type": "markdown",
   "id": "fc7eba3a-727c-41b3-a265-75c96fce85a9",
   "metadata": {},
   "source": [
    "### Visualize the result"
   ]
  },
  {
   "cell_type": "code",
   "execution_count": null,
   "id": "9082dc22-49db-4799-a98f-d6906f62524e",
   "metadata": {},
   "outputs": [],
   "source": [
    "from utils import plot_x_y, plot_x_y_proba"
   ]
  },
  {
   "cell_type": "code",
   "execution_count": null,
   "id": "5bfe0f7d-d334-4a41-8943-f61cc20f8afb",
   "metadata": {},
   "outputs": [],
   "source": [
    "plot_x_y(test_xs, test_ys)"
   ]
  },
  {
   "cell_type": "code",
   "execution_count": null,
   "id": "3c47f77b-8124-4847-a915-08067b4f2d12",
   "metadata": {},
   "outputs": [],
   "source": [
    "plot_x_y(test_xs, test_ys_hat)"
   ]
  },
  {
   "cell_type": "code",
   "execution_count": null,
   "id": "a55292c4-e16d-4bac-9a3d-4b40c1a1a0a5",
   "metadata": {},
   "outputs": [],
   "source": [
    "plot_x_y_proba(test_xs, test_ys_prob)"
   ]
  }
 ],
 "metadata": {
  "kernelspec": {
   "display_name": "Python 3 (ipykernel)",
   "language": "python",
   "name": "python3"
  },
  "language_info": {
   "codemirror_mode": {
    "name": "ipython",
    "version": 3
   },
   "file_extension": ".py",
   "mimetype": "text/x-python",
   "name": "python",
   "nbconvert_exporter": "python",
   "pygments_lexer": "ipython3",
   "version": "3.9.6"
  }
 },
 "nbformat": 4,
 "nbformat_minor": 5
}
