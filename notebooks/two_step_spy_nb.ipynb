{
 "cells": [
  {
   "cell_type": "markdown",
   "id": "6f30d7ba-8b0b-456a-bc35-275e5ef386a9",
   "metadata": {},
   "source": [
    "# Two-Step Techniques (Spy & NB)\n",
    "\n",
    "This method learns $P(y|x)$ by a two-step technique (step1: Spy, step2: Gaussian NB)."
   ]
  },
  {
   "cell_type": "code",
   "execution_count": null,
   "id": "0824358f-571a-4942-b036-7fc4a6ad2c46",
   "metadata": {
    "tags": []
   },
   "outputs": [],
   "source": [
    "import numpy as np\n",
    "import pandas as pd"
   ]
  },
  {
   "cell_type": "markdown",
   "id": "9c6b5d09-230f-4713-b8ef-8fc0274d967a",
   "metadata": {
    "tags": []
   },
   "source": [
    "### Load the dataset"
   ]
  },
  {
   "cell_type": "code",
   "execution_count": null,
   "id": "dd9541ee-e2fd-4759-b7f3-96f76a514c0f",
   "metadata": {},
   "outputs": [],
   "source": [
    "from data import load_scar, load_sar, load_pg\n",
    "\n",
    "train, valid, test, c = load_scar()"
   ]
  },
  {
   "cell_type": "markdown",
   "id": "137e8173",
   "metadata": {},
   "source": [
    "### Step1: Spy"
   ]
  },
  {
   "cell_type": "markdown",
   "id": "56ceed45",
   "metadata": {},
   "source": [
    "#### Choose \"spy\" data from labeled data"
   ]
  },
  {
   "cell_type": "code",
   "execution_count": null,
   "id": "3cfb762d-fe31-4fd9-af5a-bd2569dad09c",
   "metadata": {},
   "outputs": [],
   "source": [
    "np.random.seed(0)\n",
    "\n",
    "train_xs, train_ys, train_ss, train_es = train\n",
    "\n",
    "labeled_data_indexes = np.where(train_ss == 1)[0]\n",
    "\n",
    "n_spy = round(len(labeled_data_indexes) * 0.1)  # 0.1 is the ratio of spy\n",
    "\n",
    "spy_data_indexes = np.random.choice(labeled_data_indexes, n_spy, replace=False)\n",
    "spy = np.zeros_like(train_ss)\n",
    "spy[spy_data_indexes] = 1"
   ]
  },
  {
   "cell_type": "markdown",
   "id": "802ae556",
   "metadata": {},
   "source": [
    "#### Learn a non-traditional classifier $P(s'|x)$"
   ]
  },
  {
   "cell_type": "code",
   "execution_count": null,
   "id": "32aab557",
   "metadata": {},
   "outputs": [],
   "source": [
    "# s_ (s'): a new label indicator after regarding spy data as unlabeled\n",
    "new_train_ss = train_ss & (1 - spy)"
   ]
  },
  {
   "cell_type": "code",
   "execution_count": null,
   "id": "10b11404",
   "metadata": {},
   "outputs": [],
   "source": [
    "from sklearn.linear_model import LogisticRegression\n",
    "\n",
    "_clf = LogisticRegression(random_state=0).fit(train_xs, new_train_ss)"
   ]
  },
  {
   "cell_type": "markdown",
   "id": "ab2cae1b",
   "metadata": {},
   "source": [
    "#### Find $P_{spymin} = \\min P(s_|x, spy=1)$"
   ]
  },
  {
   "cell_type": "code",
   "execution_count": null,
   "id": "68b79d6f",
   "metadata": {},
   "outputs": [],
   "source": [
    "train_ss_prob = _clf.predict_proba(train_xs)[:, 1]\n",
    "threshold = train_ss_prob[spy.astype(bool)].min()"
   ]
  },
  {
   "cell_type": "markdown",
   "id": "0f59054f",
   "metadata": {},
   "source": [
    "#### Create a new dataset, regarding data points satisfying $P(s_|x) < P_{spymin}$ as negative"
   ]
  },
  {
   "cell_type": "code",
   "execution_count": null,
   "id": "64e3beb5",
   "metadata": {},
   "outputs": [],
   "source": [
    "# x_: the dataset consisting of positive-labeled data and negative-labeled data from the dataset x\n",
    "# y_: the label\n",
    "data_indexes_pos = labeled_data_indexes\n",
    "xs_pos = train_xs[data_indexes_pos]\n",
    "ys_pos = np.ones(len(xs_pos), dtype=np.int32)\n",
    "\n",
    "data_indexes_neg = np.where(train_ss_prob < threshold)[0]\n",
    "xs_neg = train_xs[data_indexes_neg]\n",
    "ys_neg = np.zeros(len(xs_neg), dtype=np.int32)\n",
    "\n",
    "new_train_xs = np.concatenate([xs_neg, xs_pos])\n",
    "new_train_ys = np.concatenate([ys_neg, ys_pos])"
   ]
  },
  {
   "cell_type": "markdown",
   "id": "f63ec577-5f08-4910-802c-868aa086de79",
   "metadata": {},
   "source": [
    "### Visualize the newly created dataset"
   ]
  },
  {
   "cell_type": "code",
   "execution_count": null,
   "id": "087e0d49-b369-4931-809f-2b6b480a763d",
   "metadata": {},
   "outputs": [],
   "source": [
    "from utils import plot_x_y, plot_x_s"
   ]
  },
  {
   "cell_type": "code",
   "execution_count": null,
   "id": "ececf529-8e89-4a86-9891-36a2d85ed190",
   "metadata": {},
   "outputs": [],
   "source": [
    "plot_x_s(train_xs, spy)"
   ]
  },
  {
   "cell_type": "code",
   "execution_count": null,
   "id": "2b3b00b7-93ef-472b-8348-e2160a82377a",
   "metadata": {},
   "outputs": [],
   "source": [
    "plot_x_y(new_train_xs, new_train_ys)"
   ]
  },
  {
   "cell_type": "markdown",
   "id": "7da4a0c5-05eb-43e0-840f-f24419f00612",
   "metadata": {
    "tags": []
   },
   "source": [
    "### Step2: Learn a Gaussian NB classifier P(y_|x_)\n",
    "Now, we have positive-labeled data (s=1), negative-labeled data (s=0 & P(s_|x) < P_spymin), and unlabeled data (otherwise).\n",
    "We learn a classifier only using positive-labeled data and negative-labeled data."
   ]
  },
  {
   "cell_type": "code",
   "execution_count": null,
   "id": "3ecb9425-3c41-4713-9dd7-cccfef5dd9ac",
   "metadata": {},
   "outputs": [],
   "source": [
    "from sklearn.naive_bayes import GaussianNB\n",
    "\n",
    "clf = GaussianNB().fit(new_train_xs, new_train_ys)"
   ]
  },
  {
   "cell_type": "markdown",
   "id": "33ebb374-8ea1-447b-b649-04e1ffd7feff",
   "metadata": {},
   "source": [
    "### Predict"
   ]
  },
  {
   "cell_type": "code",
   "execution_count": null,
   "id": "ee4afebb-ff4d-4beb-8381-03e84ef0953a",
   "metadata": {},
   "outputs": [],
   "source": [
    "test_xs, test_ys, test_ss, test_es = test\n",
    "\n",
    "test_ys_hat = clf.predict(test_xs)\n",
    "test_ys_prob = clf.predict_proba(test_xs)[:, 1]"
   ]
  },
  {
   "cell_type": "markdown",
   "id": "622f2edd-713c-42f0-bc36-9b2a7bf1c100",
   "metadata": {},
   "source": [
    "### Evaluate the performance"
   ]
  },
  {
   "cell_type": "code",
   "execution_count": null,
   "id": "a4da37b2-a85e-4eb2-b9f9-1d28abd75f84",
   "metadata": {},
   "outputs": [],
   "source": [
    "from sklearn.metrics import f1_score\n",
    "\n",
    "f1_score(test_ys, test_ys_hat)"
   ]
  },
  {
   "cell_type": "markdown",
   "id": "fb0b12fb-a4d5-441b-aa23-c023c34a3219",
   "metadata": {
    "tags": []
   },
   "source": [
    "### Visualize the result"
   ]
  },
  {
   "cell_type": "code",
   "execution_count": null,
   "id": "79ad94f5-f5e3-4781-8b37-4e8b7b34b155",
   "metadata": {},
   "outputs": [],
   "source": [
    "from utils import plot_x_y_proba"
   ]
  },
  {
   "cell_type": "code",
   "execution_count": null,
   "id": "985c53c6-eb4e-40fb-82a6-422f8ed92d9d",
   "metadata": {},
   "outputs": [],
   "source": [
    "plot_x_y(test_xs, test_ys_hat)"
   ]
  }
 ],
 "metadata": {
  "kernelspec": {
   "display_name": "Python 3 (ipykernel)",
   "language": "python",
   "name": "python3"
  },
  "language_info": {
   "codemirror_mode": {
    "name": "ipython",
    "version": 3
   },
   "file_extension": ".py",
   "mimetype": "text/x-python",
   "name": "python",
   "nbconvert_exporter": "python",
   "pygments_lexer": "ipython3",
   "version": "3.9.7"
  }
 },
 "nbformat": 4,
 "nbformat_minor": 5
}
