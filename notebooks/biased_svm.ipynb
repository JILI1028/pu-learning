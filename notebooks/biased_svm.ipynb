{
 "cells": [
  {
   "cell_type": "markdown",
   "id": "1379019d-d2e6-473c-8642-284b20968e52",
   "metadata": {},
   "source": [
    "# Biased SVM\n",
    "\n",
    "Biased SVMs are a variant of the standard SVM method that penalize misclassified positive and negative examples differently."
   ]
  },
  {
   "cell_type": "code",
   "execution_count": 1,
   "id": "8bd255dc-40a0-403d-b922-4646274d1cda",
   "metadata": {
    "tags": []
   },
   "outputs": [],
   "source": [
    "import numpy as np\n",
    "import pandas as pd"
   ]
  },
  {
   "cell_type": "markdown",
   "id": "9c6b5d09-230f-4713-b8ef-8fc0274d967a",
   "metadata": {
    "tags": []
   },
   "source": [
    "### Load the SCAR dataset"
   ]
  },
  {
   "cell_type": "code",
   "execution_count": 2,
   "id": "dd9541ee-e2fd-4759-b7f3-96f76a514c0f",
   "metadata": {},
   "outputs": [],
   "source": [
    "from sar import load_sar\n",
    "\n",
    "train, valid, test = load_sar()"
   ]
  },
  {
   "cell_type": "markdown",
   "id": "7da4a0c5-05eb-43e0-840f-f24419f00612",
   "metadata": {},
   "source": [
    "### Learn a biased SVM\n",
    "\n",
    "A biased SVM is trained regarding unlabeled data as negative. A biased SVM penalizes misclassified positive and negative examples differently. The best parameter is found according to $F'_1$ on the validation set."
   ]
  },
  {
   "cell_type": "code",
   "execution_count": null,
   "id": "c03efd91-a111-4af5-9499-748e96039461",
   "metadata": {},
   "outputs": [
    {
     "name": "stdout",
     "output_type": "stream",
     "text": [
      "The best classifier is updated: class weight is {0: 0.5, 1: 0.5}.\n",
      "The best classifier is updated: class weight is {0: 0.44999999999999996, 1: 0.55}.\n",
      "The best classifier is updated: class weight is {0: 0.3999999999999999, 1: 0.6000000000000001}.\n",
      "The best classifier is updated: class weight is {0: 0.34999999999999987, 1: 0.6500000000000001}.\n",
      "The best classifier is updated: class weight is {0: 0.2999999999999998, 1: 0.7000000000000002}.\n",
      "The best classifier is updated: class weight is {0: 0.24999999999999978, 1: 0.7500000000000002}.\n",
      "The best classifier is updated: class weight is {0: 0.19999999999999973, 1: 0.8000000000000003}.\n"
     ]
    }
   ],
   "source": [
    "from sklearn.svm import SVC\n",
    "from utils import f1_prime\n",
    "\n",
    "train_x, _, train_s = train\n",
    "valid_x, _, valid_s = valid\n",
    "\n",
    "best_f1_prime = -1.0\n",
    "best_clf = None\n",
    "for class_weight_p in np.arange(0.5, 1.0, 0.05):\n",
    "    class_weight = {\n",
    "        0: 1.0 - class_weight_p,\n",
    "        1: class_weight_p,\n",
    "    }\n",
    "\n",
    "    clf = SVC(class_weight=class_weight, random_state=0, probability=True).fit(train_x, train_s)\n",
    "\n",
    "    valid_s_hat = clf.predict(valid_x)\n",
    "\n",
    "    f1_prime_ = f1_prime(valid_s, valid_s_hat)\n",
    "    if f1_prime_ > best_f1_prime:\n",
    "        print(f\"The best classifier is updated: class weight is {class_weight}.\")\n",
    "        best_f1_prime = f1_prime_\n",
    "        best_clf = clf"
   ]
  },
  {
   "cell_type": "markdown",
   "id": "4d1e5c93-502c-4061-922e-1b68ca6cec01",
   "metadata": {},
   "source": [
    "### Predict"
   ]
  },
  {
   "cell_type": "code",
   "execution_count": null,
   "id": "e05dfe10-5177-4408-87a0-a8fb54466b63",
   "metadata": {},
   "outputs": [],
   "source": [
    "test_x, test_y, _ = test\n",
    "\n",
    "test_y_hat = clf.predict(test_x)\n",
    "test_y_prob_hat = clf.predict_proba(test_x)[:, 1]"
   ]
  },
  {
   "cell_type": "markdown",
   "id": "45d94a9e-ece9-439f-9b52-61e9f8204e30",
   "metadata": {},
   "source": [
    "### Evaluate the performance"
   ]
  },
  {
   "cell_type": "code",
   "execution_count": null,
   "id": "979e1821",
   "metadata": {},
   "outputs": [],
   "source": [
    "from sklearn.metrics import f1_score\n",
    "\n",
    "f1_score(test_y, test_y_hat)"
   ]
  },
  {
   "cell_type": "markdown",
   "id": "fc7eba3a-727c-41b3-a265-75c96fce85a9",
   "metadata": {},
   "source": [
    "### Visualize the result"
   ]
  },
  {
   "cell_type": "code",
   "execution_count": null,
   "id": "9082dc22-49db-4799-a98f-d6906f62524e",
   "metadata": {},
   "outputs": [],
   "source": [
    "from utils import plot_x_y, plot_x_y_proba"
   ]
  },
  {
   "cell_type": "code",
   "execution_count": null,
   "id": "5bfe0f7d-d334-4a41-8943-f61cc20f8afb",
   "metadata": {},
   "outputs": [],
   "source": [
    "plot_x_y(test_x, test_y)"
   ]
  },
  {
   "cell_type": "code",
   "execution_count": null,
   "id": "3c47f77b-8124-4847-a915-08067b4f2d12",
   "metadata": {},
   "outputs": [],
   "source": [
    "plot_x_y(test_x, test_y_hat)"
   ]
  },
  {
   "cell_type": "code",
   "execution_count": null,
   "id": "86ca1165",
   "metadata": {},
   "outputs": [],
   "source": [
    "plot_x_y_proba(test_x, test_y_prob_hat)"
   ]
  }
 ],
 "metadata": {
  "kernelspec": {
   "display_name": "Python 3 (ipykernel)",
   "language": "python",
   "name": "python3"
  },
  "language_info": {
   "codemirror_mode": {
    "name": "ipython",
    "version": 3
   },
   "file_extension": ".py",
   "mimetype": "text/x-python",
   "name": "python",
   "nbconvert_exporter": "python",
   "pygments_lexer": "ipython3",
   "version": "3.9.5"
  }
 },
 "nbformat": 4,
 "nbformat_minor": 5
}
