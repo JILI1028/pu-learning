{
 "cells": [
  {
   "cell_type": "markdown",
   "id": "6f30d7ba-8b0b-456a-bc35-275e5ef386a9",
   "metadata": {},
   "source": [
    "# Traditional Classifier\n",
    "\n",
    "A traditional classifiler learns $P(y|x)$ from fully-labeled data. This notebook uses logistic regression to learn a traditional classifier."
   ]
  },
  {
   "cell_type": "code",
   "execution_count": null,
   "id": "0824358f-571a-4942-b036-7fc4a6ad2c46",
   "metadata": {
    "tags": []
   },
   "outputs": [],
   "source": [
    "import numpy as np\n",
    "import pandas as pd"
   ]
  },
  {
   "cell_type": "markdown",
   "id": "9c6b5d09-230f-4713-b8ef-8fc0274d967a",
   "metadata": {
    "tags": []
   },
   "source": [
    "### Load the dataset"
   ]
  },
  {
   "cell_type": "code",
   "execution_count": null,
   "id": "dd9541ee-e2fd-4759-b7f3-96f76a514c0f",
   "metadata": {},
   "outputs": [],
   "source": [
    "from data import load_scar, load_sar, load_pg\n",
    "\n",
    "train, valid, test, c = load_scar()"
   ]
  },
  {
   "cell_type": "markdown",
   "id": "7da4a0c5-05eb-43e0-840f-f24419f00612",
   "metadata": {},
   "source": [
    "### Learn a traditional classifier"
   ]
  },
  {
   "cell_type": "code",
   "execution_count": null,
   "id": "c03efd91-a111-4af5-9499-748e96039461",
   "metadata": {},
   "outputs": [],
   "source": [
    "from sklearn.linear_model import LogisticRegression\n",
    "\n",
    "train_xs, train_ys, train_ss, train_es = train\n",
    "\n",
    "clf = LogisticRegression(random_state=0).fit(train_xs, train_ys)"
   ]
  },
  {
   "cell_type": "markdown",
   "id": "1a6a3650-2c2a-4756-8d61-a8397ae2f6c4",
   "metadata": {},
   "source": [
    "### Predict"
   ]
  },
  {
   "cell_type": "code",
   "execution_count": null,
   "id": "08866465-1f12-4a03-be7d-dec356e91562",
   "metadata": {},
   "outputs": [],
   "source": [
    "test_xs, test_ys, test_ss, test_es = test\n",
    "\n",
    "test_ys_hat = clf.predict(test_xs)\n",
    "test_ys_prob = clf.predict_proba(test_xs)[:, 1]"
   ]
  },
  {
   "cell_type": "markdown",
   "id": "fe9da8ee-837c-4ce0-b86d-914c275d0b6f",
   "metadata": {},
   "source": [
    "### Evaluate the performance"
   ]
  },
  {
   "cell_type": "code",
   "execution_count": null,
   "id": "c53e9afe-873f-4437-81ee-225f5f226db1",
   "metadata": {},
   "outputs": [],
   "source": [
    "from sklearn.metrics import f1_score\n",
    "\n",
    "f1_score(test_ys, test_ys_hat)"
   ]
  },
  {
   "cell_type": "markdown",
   "id": "fb0b12fb-a4d5-441b-aa23-c023c34a3219",
   "metadata": {},
   "source": [
    "### Visualize the result"
   ]
  },
  {
   "cell_type": "code",
   "execution_count": null,
   "id": "1b8dad3d-50a4-4d8d-88e4-fd060c27182d",
   "metadata": {},
   "outputs": [],
   "source": [
    "from utils import plot_x_y, plot_x_y_proba"
   ]
  },
  {
   "cell_type": "code",
   "execution_count": null,
   "id": "985c53c6-eb4e-40fb-82a6-422f8ed92d9d",
   "metadata": {},
   "outputs": [],
   "source": [
    "plot_x_y(test_xs, test_ys_hat)"
   ]
  }
 ],
 "metadata": {
  "kernelspec": {
   "display_name": "Python 3 (ipykernel)",
   "language": "python",
   "name": "python3"
  },
  "language_info": {
   "codemirror_mode": {
    "name": "ipython",
    "version": 3
   },
   "file_extension": ".py",
   "mimetype": "text/x-python",
   "name": "python",
   "nbconvert_exporter": "python",
   "pygments_lexer": "ipython3",
   "version": "3.9.7"
  }
 },
 "nbformat": 4,
 "nbformat_minor": 5
}
