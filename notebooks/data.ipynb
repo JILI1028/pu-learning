{
 "cells": [
  {
   "cell_type": "markdown",
   "id": "e4c02594-5cfc-4be1-b9da-bf00da68214e",
   "metadata": {},
   "source": [
    "# Creating PU data\n",
    "\n",
    "This notebook creates three types of PU data, SCAR, SAR, and PG."
   ]
  },
  {
   "cell_type": "code",
   "execution_count": null,
   "id": "b57b0262-1212-47ac-85ed-05bfc0eac178",
   "metadata": {},
   "outputs": [],
   "source": [
    "import numpy as np\n",
    "import pandas as pd"
   ]
  },
  {
   "cell_type": "markdown",
   "id": "36d968d8-e6cd-48fe-87af-4c749b210287",
   "metadata": {},
   "source": [
    "### Create a sampler"
   ]
  },
  {
   "cell_type": "code",
   "execution_count": null,
   "id": "af91d052-5a29-47b8-91c6-d180da28a03a",
   "metadata": {},
   "outputs": [],
   "source": [
    "import random\n",
    "\n",
    "MEAN_P = [3, 3]  # The mean of the positive example's distribution\n",
    "COV_P = [\n",
    "    [1, 0],\n",
    "    [0, 1],\n",
    "]                # The covariance matrix of the positive example's distribution\n",
    "\n",
    "MEAN_N = [0, 0]  # The mean of the negative example's distribution\n",
    "COV_N = [\n",
    "    [1, 0],\n",
    "    [0, 1],\n",
    "]                # The covariance matrix of the positive example's distribution\n",
    "\n",
    "ALPHA = 0.8      # Class prior\n",
    "\n",
    "\n",
    "def get_samples(n: int):\n",
    "    x, y = [], []\n",
    "    for _ in range(n):\n",
    "        if random.random() < ALPHA:\n",
    "            x.append(np.random.multivariate_normal(MEAN_P, COV_P, 1))\n",
    "            y.append(1)\n",
    "        else:\n",
    "            x.append(np.random.multivariate_normal(MEAN_N, COV_N, 1))\n",
    "            y.append(0)\n",
    "    return np.concatenate(x), np.asarray(y)"
   ]
  },
  {
   "cell_type": "markdown",
   "id": "d913d940-e163-4246-af63-8bd17da278e1",
   "metadata": {},
   "source": [
    "### Create a fully-labeled dataset"
   ]
  },
  {
   "cell_type": "code",
   "execution_count": null,
   "id": "94b5060e-1b58-46f6-927a-0f3949591064",
   "metadata": {},
   "outputs": [],
   "source": [
    "N_TRAIN = 10000  # The number of training examples\n",
    "N_VALID = 1000   # The number of validation examples\n",
    "N_TEST = 1000    # The number of test examples\n",
    "\n",
    "train_xs, train_ys = get_samples(N_TRAIN)\n",
    "valid_xs, valid_ys = get_samples(N_VALID)\n",
    "test_xs, test_ys = get_samples(N_TEST)"
   ]
  },
  {
   "cell_type": "markdown",
   "id": "ac28aba4-9847-4489-8258-5ee48575a30f",
   "metadata": {},
   "source": [
    "### Visualize created data"
   ]
  },
  {
   "cell_type": "code",
   "execution_count": null,
   "id": "ac9e8704-7c75-4479-bb01-8aeee3a1d16c",
   "metadata": {},
   "outputs": [],
   "source": [
    "from utils import plot_x_y\n",
    "\n",
    "plot_x_y(train_xs, train_ys)"
   ]
  },
  {
   "cell_type": "markdown",
   "id": "93d14320-1779-42da-ac50-3432af4f3b1a",
   "metadata": {},
   "source": [
    "### Create a PU dataset holding the SCAR assumption"
   ]
  },
  {
   "cell_type": "markdown",
   "id": "0d3e75b4-36ea-4825-a217-b9dce68bbfb4",
   "metadata": {},
   "source": [
    "#### Get propensity score $e(x)$"
   ]
  },
  {
   "cell_type": "code",
   "execution_count": null,
   "id": "1a5e40bc-fc22-4443-8d7d-071eda32a6fc",
   "metadata": {},
   "outputs": [],
   "source": [
    "c = 0.1  # Label frequency\n",
    "\n",
    "\n",
    "def propensity_score(ys):\n",
    "    return [c] * len(ys)"
   ]
  },
  {
   "cell_type": "code",
   "execution_count": null,
   "id": "94a7b641-859e-4002-9e3b-f2fcb75b3ab8",
   "metadata": {},
   "outputs": [],
   "source": [
    "train_es = propensity_score(train_ys)\n",
    "valid_es = propensity_score(valid_ys)\n",
    "test_es = propensity_score(test_ys)"
   ]
  },
  {
   "cell_type": "markdown",
   "id": "085ae83e-7d7a-4ebf-98af-b7c1a8df5f50",
   "metadata": {},
   "source": [
    "#### Get label $s$"
   ]
  },
  {
   "cell_type": "code",
   "execution_count": null,
   "id": "496289cc-744f-431d-b77d-94d6d61b8a38",
   "metadata": {},
   "outputs": [],
   "source": [
    "def get_label(y, e):\n",
    "    if y == 0:\n",
    "        return 0\n",
    "    else:\n",
    "        return int(random.random() < e)"
   ]
  },
  {
   "cell_type": "code",
   "execution_count": null,
   "id": "3d483753-3616-4a82-8df1-af1331f43f3e",
   "metadata": {},
   "outputs": [],
   "source": [
    "train_ss = [get_label(y, e) for y, e in zip(train_ys, train_es)]\n",
    "valid_ss = [get_label(y, e) for y, e in zip(valid_ys, valid_es)]\n",
    "test_ss = [get_label(y, e) for y, e in zip(test_ys, test_es)]"
   ]
  },
  {
   "cell_type": "markdown",
   "id": "684a0d2a-66a5-4535-b87c-2e19829e2b75",
   "metadata": {},
   "source": [
    "#### Visualize created data"
   ]
  },
  {
   "cell_type": "code",
   "execution_count": null,
   "id": "8ea54f1d-7e1d-48d6-943a-56c59537329a",
   "metadata": {},
   "outputs": [],
   "source": [
    "from utils import plot_x_s\n",
    "\n",
    "plot_x_s(train_xs, train_ss)"
   ]
  },
  {
   "cell_type": "markdown",
   "id": "c44db8ce-2a1a-4579-91ba-5fc9320f2fb7",
   "metadata": {},
   "source": [
    "#### Save the data"
   ]
  },
  {
   "cell_type": "code",
   "execution_count": null,
   "id": "fc6f2e9c-a7b4-4e49-917c-da7f00ab3c18",
   "metadata": {},
   "outputs": [],
   "source": [
    "def save_data(filename, xs, ys, ss, es):\n",
    "    with open(filename, \"wt\") as f:\n",
    "        f.write(\"x_0,x_1,y,s,e\\n\")\n",
    "        for x, y, s, e in zip(xs, ys, ss, es):\n",
    "            f.write(f\"{x[0]},{x[1]},{y},{s},{e}\\n\")\n",
    "\n",
    "            \n",
    "def save_c(filename, c):\n",
    "    with open(filename, \"wt\") as f:\n",
    "        f.write(f\"{c}\")"
   ]
  },
  {
   "cell_type": "code",
   "execution_count": null,
   "id": "4a9fe868-825e-41c9-9ae1-fcb953a3971e",
   "metadata": {},
   "outputs": [],
   "source": [
    "data_id = \"scar\"\n",
    "\n",
    "save_data(f\"data/{data_id}/train.csv\", train_xs, train_ys, train_ss, train_es)\n",
    "save_data(f\"data/{data_id}/valid.csv\", valid_xs, valid_ys, valid_ss, valid_es)\n",
    "save_data(f\"data/{data_id}/test.csv\", test_xs, test_ys, test_ss, test_es)\n",
    "\n",
    "save_c(f\"data/{data_id}/c.txt\", c)"
   ]
  },
  {
   "cell_type": "markdown",
   "id": "5e4a8016-e9c9-40b4-948c-b5c50e39abaa",
   "metadata": {},
   "source": [
    "### Create a PU dataset holding the SAR assumption"
   ]
  },
  {
   "cell_type": "markdown",
   "id": "75ddb96c-deaf-4b7f-9645-d9a0d76a3ac1",
   "metadata": {},
   "source": [
    "#### Get propensity score $e(x)$"
   ]
  },
  {
   "cell_type": "code",
   "execution_count": null,
   "id": "aea1b85d-f7c3-4135-a85a-16ef7716f95f",
   "metadata": {},
   "outputs": [],
   "source": [
    "class LabelingMechanism:\n",
    "\n",
    "    def __init__(\n",
    "        self,\n",
    "        propensity_attributes,\n",
    "        propensity_attributes_signs,\n",
    "        min_prob=0.0,\n",
    "        max_prob=1.0,\n",
    "        power=1,\n",
    "    ):\n",
    "        assert len(propensity_attributes) == len(propensity_attributes_signs), \"size of attributes and signs must be same\"\n",
    "        self.propensity_attributes = np.array(propensity_attributes)\n",
    "        self.propensity_attributes_signs = np.array(propensity_attributes_signs)\n",
    "        self.min_prob = min_prob\n",
    "        self.max_prob = max_prob\n",
    "        self.power = power\n",
    "\n",
    "        self.min_x = None\n",
    "        self.max_x = None\n",
    "\n",
    "    def fit(self, xs):\n",
    "        xs_ = xs[:, self.propensity_attributes] * self.propensity_attributes_signs\n",
    "        self.min_x = xs_.min(0)\n",
    "        self.max_x = xs_.max(0)\n",
    "\n",
    "    def propensity_score(self, xs):\n",
    "        assert self.min_x is not None and self.max_x is not None, \"run fit() before calculating propensity score\"\n",
    "        xs_ = xs[:, self.propensity_attributes] * self.propensity_attributes_signs\n",
    "        scaled = self.min_prob + (((xs_ - self.min_x) / (self.max_x - self.min_x)) ** self.power) * (self.max_prob - self.min_prob)\n",
    "        es = (scaled ** (1 / len(self.propensity_attributes))).prod(1)  # geometric mean\n",
    "        return es\n",
    "\n",
    "    @staticmethod\n",
    "    def label_frequency(es, ys):\n",
    "        es_pos = es[ys == 1]\n",
    "        return es_pos.mean()"
   ]
  },
  {
   "cell_type": "code",
   "execution_count": null,
   "id": "afb574fe-170b-4df5-84ba-88aba02ad81c",
   "metadata": {},
   "outputs": [],
   "source": [
    "lm = LabelingMechanism([0], [1], min_prob=0.0, max_prob=1.0, power=4)\n",
    "lm.fit(train_xs)"
   ]
  },
  {
   "cell_type": "code",
   "execution_count": null,
   "id": "cbf38189-4ecc-4ff6-be3d-508f8ebc772f",
   "metadata": {},
   "outputs": [],
   "source": [
    "train_es = lm.propensity_score(train_xs)\n",
    "valid_es = lm.propensity_score(valid_xs)\n",
    "test_es = lm.propensity_score(test_xs)\n",
    "\n",
    "c = lm.label_frequency(train_es, train_ys)"
   ]
  },
  {
   "cell_type": "markdown",
   "id": "0a38ca0a-47d6-4060-bbc8-125d45666db2",
   "metadata": {},
   "source": [
    "#### Get label $s$"
   ]
  },
  {
   "cell_type": "code",
   "execution_count": null,
   "id": "6226b967-bc52-45b2-9b5d-2e6e6bbfdbd9",
   "metadata": {},
   "outputs": [],
   "source": [
    "train_ss = [get_label(y, e) for y, e in zip(train_ys, train_es)]\n",
    "valid_ss = [get_label(y, e) for y, e in zip(train_ys, valid_es)]\n",
    "test_ss = [get_label(y, e) for y, e in zip(train_ys, test_es)]"
   ]
  },
  {
   "cell_type": "markdown",
   "id": "dbb38dc0-0510-4f99-8b12-b451d7d6b563",
   "metadata": {},
   "source": [
    "#### Visualize created data"
   ]
  },
  {
   "cell_type": "code",
   "execution_count": null,
   "id": "df50b092-2d20-40e5-bbdf-96900a92d45a",
   "metadata": {},
   "outputs": [],
   "source": [
    "plot_x_s(train_xs, train_ss)"
   ]
  },
  {
   "cell_type": "markdown",
   "id": "012ef4ba-e068-4226-aceb-dafdd3b48bab",
   "metadata": {},
   "source": [
    "#### Save the data"
   ]
  },
  {
   "cell_type": "code",
   "execution_count": null,
   "id": "a8bad1d9-1ae8-4a05-9bc3-9ddcc129545b",
   "metadata": {},
   "outputs": [],
   "source": [
    "data_id = \"sar\"\n",
    "\n",
    "save_data(f\"data/{data_id}/train.csv\", train_xs, train_ys, train_ss, train_es)\n",
    "save_data(f\"data/{data_id}/valid.csv\", valid_xs, valid_ys, valid_ss, valid_es)\n",
    "save_data(f\"data/{data_id}/test.csv\", test_xs, test_ys, test_ss, test_es)\n",
    "\n",
    "save_c(f\"data/{data_id}/c.txt\", c)"
   ]
  },
  {
   "cell_type": "markdown",
   "id": "c990f977-d336-475d-af8e-c2a0fcac2c11",
   "metadata": {},
   "source": [
    "### Create a PU dataset holding the PG assumption"
   ]
  },
  {
   "cell_type": "markdown",
   "id": "48390539-d5fe-48e2-aca4-1886abc2418b",
   "metadata": {},
   "source": [
    "#### Get propensity score $e(x)$"
   ]
  },
  {
   "cell_type": "code",
   "execution_count": null,
   "id": "a8a4a4f1-4972-4d2a-8a19-0c8b1abb057d",
   "metadata": {},
   "outputs": [],
   "source": [
    "lm = LabelingMechanism([0, 1], [1, 1], min_prob=0.0, max_prob=1.0, power=4)\n",
    "lm.fit(train_xs)"
   ]
  },
  {
   "cell_type": "code",
   "execution_count": null,
   "id": "a6913d8f-2aad-440c-8482-5e59be37c95f",
   "metadata": {},
   "outputs": [],
   "source": [
    "train_es = lm.propensity_score(train_xs)\n",
    "valid_es = lm.propensity_score(valid_xs)\n",
    "test_es = lm.propensity_score(test_xs)\n",
    "\n",
    "c = lm.label_frequency(train_es, train_ys)"
   ]
  },
  {
   "cell_type": "markdown",
   "id": "8161e1c0-8d73-431e-b4a3-5d683b8368a6",
   "metadata": {},
   "source": [
    "#### Get label $s$"
   ]
  },
  {
   "cell_type": "code",
   "execution_count": null,
   "id": "8bf3399a-ac5f-4586-9a96-2efe7d616aaf",
   "metadata": {},
   "outputs": [],
   "source": [
    "train_ss = [get_label(y, e) for y, e in zip(train_ys, train_es)]\n",
    "valid_ss = [get_label(y, e) for y, e in zip(train_ys, valid_es)]\n",
    "test_ss = [get_label(y, e) for y, e in zip(train_ys, test_es)]"
   ]
  },
  {
   "cell_type": "markdown",
   "id": "f1066741-1f81-4ec1-a7f2-d588fa46dd9d",
   "metadata": {},
   "source": [
    "#### Visualize created data"
   ]
  },
  {
   "cell_type": "code",
   "execution_count": null,
   "id": "0c82be1e-1744-40ec-82fd-46a2c297f712",
   "metadata": {},
   "outputs": [],
   "source": [
    "plot_x_s(train_xs, train_ss)"
   ]
  },
  {
   "cell_type": "markdown",
   "id": "651b44ba-ccf9-4326-8c4a-6f96186dfa92",
   "metadata": {},
   "source": [
    "#### Save the data"
   ]
  },
  {
   "cell_type": "code",
   "execution_count": null,
   "id": "19a3af28-6016-4d2a-a855-0a5c8feab113",
   "metadata": {},
   "outputs": [],
   "source": [
    "data_id = \"pg\"\n",
    "\n",
    "save_data(f\"data/{data_id}/train.csv\", train_xs, train_ys, train_ss, train_es)\n",
    "save_data(f\"data/{data_id}/valid.csv\", valid_xs, valid_ys, valid_ss, valid_es)\n",
    "save_data(f\"data/{data_id}/test.csv\", test_xs, test_ys, test_ss, test_es)\n",
    "\n",
    "save_c(f\"data/{data_id}/c.txt\", c)"
   ]
  }
 ],
 "metadata": {
  "kernelspec": {
   "display_name": "Python 3 (ipykernel)",
   "language": "python",
   "name": "python3"
  },
  "language_info": {
   "codemirror_mode": {
    "name": "ipython",
    "version": 3
   },
   "file_extension": ".py",
   "mimetype": "text/x-python",
   "name": "python",
   "nbconvert_exporter": "python",
   "pygments_lexer": "ipython3",
   "version": "3.9.6"
  }
 },
 "nbformat": 4,
 "nbformat_minor": 5
}
