{
 "cells": [
  {
   "cell_type": "markdown",
   "id": "5bd5fe0f-16f0-4fbd-b2f6-51a7f509277c",
   "metadata": {},
   "source": [
    "# Empirical risk minimization\n",
    "\n",
    "This method creates a new dataset from PU data so that a classifier learned from it is expected to be equal to a classifier trained from a fully labeled dataset."
   ]
  },
  {
   "cell_type": "code",
   "execution_count": null,
   "id": "8bd255dc-40a0-403d-b922-4646274d1cda",
   "metadata": {
    "tags": []
   },
   "outputs": [],
   "source": [
    "import numpy as np\n",
    "import pandas as pd"
   ]
  },
  {
   "cell_type": "markdown",
   "id": "9c6b5d09-230f-4713-b8ef-8fc0274d967a",
   "metadata": {
    "tags": []
   },
   "source": [
    "### Load the dataset"
   ]
  },
  {
   "cell_type": "code",
   "execution_count": null,
   "id": "dd9541ee-e2fd-4759-b7f3-96f76a514c0f",
   "metadata": {},
   "outputs": [],
   "source": [
    "from data import load_scar, load_sar, load_pg\n",
    "\n",
    "train, valid, test, c = load_scar()"
   ]
  },
  {
   "cell_type": "markdown",
   "id": "59501bc7-9d43-43ce-b014-25593800974d",
   "metadata": {},
   "source": [
    "### Create a new dataset\n",
    "\n",
    "- Create a new dataset from PU data so that a classifier learned from it is expected to be equal to a classifier trained from a fully labeled dataset.\n",
    "- In the newly created dataset,\n",
    "  - Labeled data is used as positive with weight $\\frac{1}{e(x)}$.\n",
    "  - Labeled data is used as negative as well with weight $1 - \\frac{1}{e(x)}$.\n",
    "  - Unlabeled data is used as negative with weight $1$."
   ]
  },
  {
   "cell_type": "code",
   "execution_count": null,
   "id": "78483960-924f-4129-871d-e474972086ac",
   "metadata": {},
   "outputs": [],
   "source": [
    "train_xs, train_ys, train_ss, train_es = train\n",
    "\n",
    "train_xs_labeled = train_xs[train_ss == 1]\n",
    "train_xs_unlabeled = train_xs[train_ss == 0]\n",
    "\n",
    "train_es_labeled = train_es[train_ss == 1]\n",
    "\n",
    "new_train_xs = []\n",
    "new_train_ys = []\n",
    "sample_weight = []\n",
    "\n",
    "# Labeled data is used as positive ($y=1$)\n",
    "for train_x_labeled, train_e_labeled in zip(train_xs_labeled, train_es_labeled):\n",
    "    new_train_xs.append(train_x_labeled)\n",
    "    new_train_ys.append(1)\n",
    "    sample_weight.append(1 / train_e_labeled)\n",
    "\n",
    "# Labeled data is used as negative ($y=0$) as well\n",
    "for train_x_labeled, train_e_labeled in zip(train_xs_labeled, train_es_labeled):\n",
    "    new_train_xs.append(train_x_labeled)\n",
    "    new_train_ys.append(0)\n",
    "    sample_weight.append(1 - 1 / train_e_labeled)\n",
    "\n",
    "# Unlabeled data is used as negative ($y=0$)\n",
    "for train_x_unlabeled in train_xs_unlabeled:\n",
    "    new_train_xs.append(train_x_unlabeled)\n",
    "    new_train_ys.append(0)\n",
    "    sample_weight.append(1)"
   ]
  },
  {
   "cell_type": "markdown",
   "id": "116ceb44-e510-4041-8e75-e19922db2c51",
   "metadata": {},
   "source": [
    "### Learn a classifier"
   ]
  },
  {
   "cell_type": "code",
   "execution_count": null,
   "id": "dd47e0d3-bba5-4aef-8ef4-faac810912e1",
   "metadata": {},
   "outputs": [],
   "source": [
    "from sklearn.linear_model import LogisticRegression\n",
    "\n",
    "clf = LogisticRegression(random_state=0).fit(new_train_xs, new_train_ys, sample_weight=sample_weight)"
   ]
  },
  {
   "cell_type": "markdown",
   "id": "366adfcd-d94d-4210-961e-6810e8502a41",
   "metadata": {},
   "source": [
    "### Predict"
   ]
  },
  {
   "cell_type": "code",
   "execution_count": null,
   "id": "e9a8ba20-766d-490f-9dc7-b40c26914f00",
   "metadata": {},
   "outputs": [],
   "source": [
    "test_xs, test_ys, test_ss, test_es = test\n",
    "\n",
    "test_ys_hat = clf.predict(test_xs)\n",
    "test_ys_prob = clf.predict_proba(test_xs)[:, 1]"
   ]
  },
  {
   "cell_type": "markdown",
   "id": "16e85f9f-2045-454a-ae31-a3a98f0af49b",
   "metadata": {},
   "source": [
    "### Evaluate the performance"
   ]
  },
  {
   "cell_type": "code",
   "execution_count": null,
   "id": "6514e199-3ce7-4f15-981d-61532adf77cf",
   "metadata": {},
   "outputs": [],
   "source": [
    "from sklearn.metrics import f1_score\n",
    "\n",
    "f1_score(test_ys, test_ys_hat)"
   ]
  },
  {
   "cell_type": "markdown",
   "id": "fc7eba3a-727c-41b3-a265-75c96fce85a9",
   "metadata": {},
   "source": [
    "### Visualize the result"
   ]
  },
  {
   "cell_type": "code",
   "execution_count": null,
   "id": "9082dc22-49db-4799-a98f-d6906f62524e",
   "metadata": {},
   "outputs": [],
   "source": [
    "from utils import plot_x_y, plot_x_y_proba"
   ]
  },
  {
   "cell_type": "code",
   "execution_count": null,
   "id": "3c47f77b-8124-4847-a915-08067b4f2d12",
   "metadata": {},
   "outputs": [],
   "source": [
    "plot_x_y(test_xs, test_ys_hat)"
   ]
  },
  {
   "cell_type": "code",
   "execution_count": null,
   "id": "39252976-d119-4302-8f7e-24f8ca878d88",
   "metadata": {},
   "outputs": [],
   "source": [
    "plot_x_y_proba(test_xs, test_ys_prob)"
   ]
  }
 ],
 "metadata": {
  "kernelspec": {
   "display_name": "Python 3 (ipykernel)",
   "language": "python",
   "name": "python3"
  },
  "language_info": {
   "codemirror_mode": {
    "name": "ipython",
    "version": 3
   },
   "file_extension": ".py",
   "mimetype": "text/x-python",
   "name": "python",
   "nbconvert_exporter": "python",
   "pygments_lexer": "ipython3",
   "version": "3.9.6"
  }
 },
 "nbformat": 4,
 "nbformat_minor": 5
}
