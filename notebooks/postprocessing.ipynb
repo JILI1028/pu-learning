{
 "cells": [
  {
   "cell_type": "markdown",
   "id": "b1fdd96c-e7d2-4d4a-8a48-46de838c1eb3",
   "metadata": {},
   "source": [
    "# Postprocessing\n",
    "\n",
    "Post-processing calculates $P(y|x)$ by scaling $P(s|x)$ by $\\frac{1}{c}$.\n",
    "Note that this method is applicable only when the SCAR assumption holds."
   ]
  },
  {
   "cell_type": "code",
   "execution_count": null,
   "id": "8bd255dc-40a0-403d-b922-4646274d1cda",
   "metadata": {
    "tags": []
   },
   "outputs": [],
   "source": [
    "import numpy as np\n",
    "import pandas as pd"
   ]
  },
  {
   "cell_type": "markdown",
   "id": "9c6b5d09-230f-4713-b8ef-8fc0274d967a",
   "metadata": {
    "tags": []
   },
   "source": [
    "### Load the dataset"
   ]
  },
  {
   "cell_type": "code",
   "execution_count": null,
   "id": "dd9541ee-e2fd-4759-b7f3-96f76a514c0f",
   "metadata": {},
   "outputs": [],
   "source": [
    "from data import load_scar, load_sar, load_pg\n",
    "\n",
    "train, valid, test, c = load_scar()"
   ]
  },
  {
   "cell_type": "markdown",
   "id": "7da4a0c5-05eb-43e0-840f-f24419f00612",
   "metadata": {},
   "source": [
    "### Learn a non-traditional classifier $P(s|x)$"
   ]
  },
  {
   "cell_type": "code",
   "execution_count": null,
   "id": "c03efd91-a111-4af5-9499-748e96039461",
   "metadata": {},
   "outputs": [],
   "source": [
    "from sklearn.linear_model import LogisticRegression\n",
    "\n",
    "train_xs, train_ys, train_ss, train_es = train\n",
    "\n",
    "clf = LogisticRegression(random_state=0).fit(train_xs, train_ss)"
   ]
  },
  {
   "cell_type": "markdown",
   "id": "b74fa1af-4a04-4939-ae31-f418ffd6f95f",
   "metadata": {},
   "source": [
    "### Predict\n",
    "\n",
    "If the SCAR assumption holds, $P(y|x)$ is calculated by scaling $P(s|x)$ by $\\frac{1}{c}$."
   ]
  },
  {
   "cell_type": "code",
   "execution_count": null,
   "id": "2f217589-bc5e-493c-af5f-edd38f807d07",
   "metadata": {},
   "outputs": [],
   "source": [
    "test_xs, test_ys, test_ss, test_es = test\n",
    "\n",
    "test_ss_prob = clf.predict_proba(test_xs)[:, 1]\n",
    "\n",
    "test_ys_prob = np.minimum(test_ss_prob / c, 1.0)\n",
    "test_ys_hat = (test_ys_prob > 0.5).astype(np.int32)"
   ]
  },
  {
   "cell_type": "markdown",
   "id": "66e0fe14-75a0-4585-8416-52ea2424d83f",
   "metadata": {},
   "source": [
    "### Evaluate the performane"
   ]
  },
  {
   "cell_type": "code",
   "execution_count": null,
   "id": "1c4b7a0c-12a5-4490-989c-a0cd399a6ec3",
   "metadata": {},
   "outputs": [],
   "source": [
    "from sklearn.metrics import f1_score\n",
    "\n",
    "f1_score(test_ys, test_ys_hat)"
   ]
  },
  {
   "cell_type": "markdown",
   "id": "fc7eba3a-727c-41b3-a265-75c96fce85a9",
   "metadata": {},
   "source": [
    "### Visualize the result"
   ]
  },
  {
   "cell_type": "code",
   "execution_count": null,
   "id": "9082dc22-49db-4799-a98f-d6906f62524e",
   "metadata": {},
   "outputs": [],
   "source": [
    "from utils import plot_x_y, plot_x_y_proba"
   ]
  },
  {
   "cell_type": "code",
   "execution_count": null,
   "id": "3c47f77b-8124-4847-a915-08067b4f2d12",
   "metadata": {},
   "outputs": [],
   "source": [
    "plot_x_y(test_xs, test_ys_hat)"
   ]
  }
 ],
 "metadata": {
  "kernelspec": {
   "display_name": "Python 3 (ipykernel)",
   "language": "python",
   "name": "python3"
  },
  "language_info": {
   "codemirror_mode": {
    "name": "ipython",
    "version": 3
   },
   "file_extension": ".py",
   "mimetype": "text/x-python",
   "name": "python",
   "nbconvert_exporter": "python",
   "pygments_lexer": "ipython3",
   "version": "3.9.10"
  }
 },
 "nbformat": 4,
 "nbformat_minor": 5
}
