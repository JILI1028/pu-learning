{
 "cells": [
  {
   "cell_type": "markdown",
   "id": "94c4ef49-fbd7-45db-bb85-73936eb092ff",
   "metadata": {},
   "source": [
    "# Rebalancing Methods\n",
    "\n",
    "This method learns $P(y|x)$ from PU data by incorporating the labeling mechanism."
   ]
  },
  {
   "cell_type": "code",
   "execution_count": null,
   "id": "8bd255dc-40a0-403d-b922-4646274d1cda",
   "metadata": {
    "tags": []
   },
   "outputs": [],
   "source": [
    "import numpy as np\n",
    "import pandas as pd"
   ]
  },
  {
   "cell_type": "markdown",
   "id": "9c6b5d09-230f-4713-b8ef-8fc0274d967a",
   "metadata": {
    "tags": []
   },
   "source": [
    "### Load the dataset"
   ]
  },
  {
   "cell_type": "code",
   "execution_count": null,
   "id": "dd9541ee-e2fd-4759-b7f3-96f76a514c0f",
   "metadata": {},
   "outputs": [],
   "source": [
    "from data import load_scar, load_sar, load_pg\n",
    "\n",
    "train, valid, test, c = load_scar()"
   ]
  },
  {
   "cell_type": "markdown",
   "id": "7d405248-e7ad-4b57-9c65-a1b992f1ad82",
   "metadata": {},
   "source": [
    "### Create a new dataset\n",
    "\n",
    "- Create a new dataset by regarding labeled and unlabeled data as positive and negative data, respectively.\n",
    "- Assign a weight to each training example in the new dataset as follows:\n",
    "  - Assign $w^+ = \\frac{\\tau}{c\\tau}$ to positive data.\n",
    "  - Assign $w^- = 1 - \\frac{1 - \\tau}{1 - c\\tau}$ to negative data."
   ]
  },
  {
   "cell_type": "code",
   "execution_count": null,
   "id": "e876b9f9-99cf-44b8-8e0a-e57eda47cb7c",
   "metadata": {},
   "outputs": [],
   "source": [
    "train_xs, train_ys, train_ss, train_es = train\n",
    "\n",
    "new_train_xs = train_xs[:]\n",
    "new_train_ys = train_ss[:]\n",
    "\n",
    "tau = 0.5\n",
    "class_weight = {\n",
    "    0: 1 - (1 - tau) / (1 - c * tau),\n",
    "    1: tau / (c * tau),\n",
    "}"
   ]
  },
  {
   "cell_type": "markdown",
   "id": "7da4a0c5-05eb-43e0-840f-f24419f00612",
   "metadata": {},
   "source": [
    "### Learn a classifier"
   ]
  },
  {
   "cell_type": "code",
   "execution_count": null,
   "id": "dd47e0d3-bba5-4aef-8ef4-faac810912e1",
   "metadata": {},
   "outputs": [],
   "source": [
    "from sklearn.linear_model import LogisticRegression\n",
    "\n",
    "clf = LogisticRegression(random_state=0, class_weight=class_weight).fit(new_train_xs, new_train_ys)"
   ]
  },
  {
   "cell_type": "markdown",
   "id": "c79ed408-de27-4b19-baf7-446d8502c2dc",
   "metadata": {},
   "source": [
    "### Predict"
   ]
  },
  {
   "cell_type": "code",
   "execution_count": null,
   "id": "155349c5-1632-47f6-ae62-6fb6cfc1d398",
   "metadata": {},
   "outputs": [],
   "source": [
    "test_xs, test_ys, test_ss, test_es = test\n",
    "\n",
    "test_ys_hat = clf.predict(test_xs)\n",
    "test_ys_prob = clf.predict_proba(test_xs)[:, 1]"
   ]
  },
  {
   "cell_type": "markdown",
   "id": "c20dc0a3-2f0d-408e-85b4-9e68c5527c11",
   "metadata": {},
   "source": [
    "### Evaluate the performance"
   ]
  },
  {
   "cell_type": "code",
   "execution_count": null,
   "id": "4a520b7a-5cbc-4427-98d8-82760c6a6c01",
   "metadata": {},
   "outputs": [],
   "source": [
    "from sklearn.metrics import f1_score\n",
    "\n",
    "f1_score(test_ys, test_ys_hat)"
   ]
  },
  {
   "cell_type": "markdown",
   "id": "fc7eba3a-727c-41b3-a265-75c96fce85a9",
   "metadata": {},
   "source": [
    "### Visualize the result"
   ]
  },
  {
   "cell_type": "code",
   "execution_count": null,
   "id": "9082dc22-49db-4799-a98f-d6906f62524e",
   "metadata": {},
   "outputs": [],
   "source": [
    "from utils import plot_x_y, plot_x_y_proba"
   ]
  },
  {
   "cell_type": "code",
   "execution_count": null,
   "id": "3c47f77b-8124-4847-a915-08067b4f2d12",
   "metadata": {},
   "outputs": [],
   "source": [
    "plot_x_y(test_xs, test_ys_hat)"
   ]
  }
 ],
 "metadata": {
  "kernelspec": {
   "display_name": "Python 3 (ipykernel)",
   "language": "python",
   "name": "python3"
  },
  "language_info": {
   "codemirror_mode": {
    "name": "ipython",
    "version": 3
   },
   "file_extension": ".py",
   "mimetype": "text/x-python",
   "name": "python",
   "nbconvert_exporter": "python",
   "pygments_lexer": "ipython3",
   "version": "3.9.10"
  }
 },
 "nbformat": 4,
 "nbformat_minor": 5
}
