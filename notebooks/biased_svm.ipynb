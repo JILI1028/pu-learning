{
 "cells": [
  {
   "cell_type": "markdown",
   "id": "1379019d-d2e6-473c-8642-284b20968e52",
   "metadata": {},
   "source": [
    "# Biased SVM\n",
    "\n",
    "Biased SVMs are a variant of the standard SVM method that penalize misclassified positive and negative examples differently."
   ]
  },
  {
   "cell_type": "code",
   "execution_count": null,
   "id": "8bd255dc-40a0-403d-b922-4646274d1cda",
   "metadata": {
    "tags": []
   },
   "outputs": [],
   "source": [
    "import numpy as np\n",
    "import pandas as pd"
   ]
  },
  {
   "cell_type": "markdown",
   "id": "9c6b5d09-230f-4713-b8ef-8fc0274d967a",
   "metadata": {
    "tags": []
   },
   "source": [
    "### Load the SCAR dataset"
   ]
  },
  {
   "cell_type": "code",
   "execution_count": null,
   "id": "dd9541ee-e2fd-4759-b7f3-96f76a514c0f",
   "metadata": {},
   "outputs": [],
   "source": [
    "from data import load_scar, load_sar, load_pg\n",
    "\n",
    "train, valid, test, c = load_scar()"
   ]
  },
  {
   "cell_type": "markdown",
   "id": "7da4a0c5-05eb-43e0-840f-f24419f00612",
   "metadata": {},
   "source": [
    "### Learn a biased SVM\n",
    "\n",
    "A biased SVM is trained regarding unlabeled data as negative. A biased SVM penalizes misclassified positive and negative examples differently. The best parameter is found according to $F'_1$ on the validation set."
   ]
  },
  {
   "cell_type": "code",
   "execution_count": null,
   "id": "c03efd91-a111-4af5-9499-748e96039461",
   "metadata": {},
   "outputs": [],
   "source": [
    "from sklearn.svm import SVC\n",
    "from utils import f1_prime\n",
    "\n",
    "train_xs, train_ys, train_ss, train_es = train\n",
    "valid_xs, valid_ys, valid_ss, valid_es = valid\n",
    "\n",
    "best_f1_prime = -1.0\n",
    "best_clf = None\n",
    "for class_weight_pos in np.arange(0.5, 1.0, 0.05):\n",
    "    class_weight = {\n",
    "        0: 1.0 - class_weight_pos,\n",
    "        1: class_weight_pos,\n",
    "    }\n",
    "\n",
    "    clf = SVC(class_weight=class_weight, random_state=0, probability=True).fit(train_xs, train_ss)\n",
    "\n",
    "    valid_ss_hat = clf.predict(valid_xs)\n",
    "\n",
    "    f1_prime_ = f1_prime(valid_ss, valid_ss_hat)\n",
    "    if f1_prime_ > best_f1_prime:\n",
    "        print(f\"The best classifier is updated: class weight is {class_weight}.\")\n",
    "        best_f1_prime = f1_prime_\n",
    "        best_clf = clf"
   ]
  },
  {
   "cell_type": "markdown",
   "id": "4d1e5c93-502c-4061-922e-1b68ca6cec01",
   "metadata": {},
   "source": [
    "### Predict"
   ]
  },
  {
   "cell_type": "code",
   "execution_count": null,
   "id": "e05dfe10-5177-4408-87a0-a8fb54466b63",
   "metadata": {},
   "outputs": [],
   "source": [
    "test_xs, test_ys, test_ss, test_es = test\n",
    "\n",
    "test_ys_hat = clf.predict(test_xs)\n",
    "test_ys_prob = clf.predict_proba(test_xs)[:, 1]"
   ]
  },
  {
   "cell_type": "markdown",
   "id": "45d94a9e-ece9-439f-9b52-61e9f8204e30",
   "metadata": {},
   "source": [
    "### Evaluate the performance"
   ]
  },
  {
   "cell_type": "code",
   "execution_count": null,
   "id": "979e1821",
   "metadata": {},
   "outputs": [],
   "source": [
    "from sklearn.metrics import f1_score\n",
    "\n",
    "f1_score(test_ys, test_ys_hat)"
   ]
  },
  {
   "cell_type": "markdown",
   "id": "fc7eba3a-727c-41b3-a265-75c96fce85a9",
   "metadata": {},
   "source": [
    "### Visualize the result"
   ]
  },
  {
   "cell_type": "code",
   "execution_count": null,
   "id": "9082dc22-49db-4799-a98f-d6906f62524e",
   "metadata": {},
   "outputs": [],
   "source": [
    "from utils import plot_x_y, plot_x_y_proba"
   ]
  },
  {
   "cell_type": "code",
   "execution_count": null,
   "id": "5bfe0f7d-d334-4a41-8943-f61cc20f8afb",
   "metadata": {},
   "outputs": [],
   "source": [
    "plot_x_y(test_xs, test_ys)"
   ]
  },
  {
   "cell_type": "code",
   "execution_count": null,
   "id": "3c47f77b-8124-4847-a915-08067b4f2d12",
   "metadata": {},
   "outputs": [],
   "source": [
    "plot_x_y(test_xs, test_ys_hat)"
   ]
  },
  {
   "cell_type": "code",
   "execution_count": null,
   "id": "86ca1165",
   "metadata": {},
   "outputs": [],
   "source": [
    "plot_x_y_proba(test_xs, test_ys_prob)"
   ]
  }
 ],
 "metadata": {
  "kernelspec": {
   "display_name": "Python 3 (ipykernel)",
   "language": "python",
   "name": "python3"
  },
  "language_info": {
   "codemirror_mode": {
    "name": "ipython",
    "version": 3
   },
   "file_extension": ".py",
   "mimetype": "text/x-python",
   "name": "python",
   "nbconvert_exporter": "python",
   "pygments_lexer": "ipython3",
   "version": "3.9.6"
  }
 },
 "nbformat": 4,
 "nbformat_minor": 5
}
